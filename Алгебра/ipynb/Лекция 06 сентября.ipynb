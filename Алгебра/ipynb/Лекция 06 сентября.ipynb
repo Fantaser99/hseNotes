{
 "cells": [
  {
   "cell_type": "markdown",
   "metadata": {},
   "source": [
    "# Матрицы и СЛАУ\n",
    "\n",
    "**Опр.** Матрицей называют таблицу из m строк и n столбцов.\n",
    "\n",
    "Обозначение: $ a = \\begin{pmatrix} a_{1 1} & \\dots & a_{1 n} \\\\ \\vdots & & \\vdots \\\\ a_{m 1} & \\dots & a_{m n} \\end{pmatrix} $\n",
    "\n",
    "$ 1 * n $ - матрица-строка\n",
    "\n",
    "$ A = \\begin{pmatrix} a_1 & \\dots & a_n \\end{pmatrix} $\n",
    "\n",
    "$ m * 1 $ - матрица-столбец \n",
    "\n",
    "$ A = \\begin{pmatrix} a_1 \\\\ \\vdots \\\\ a_n \\end{pmatrix} $\n",
    "\n",
    "**Опр.** Две матрицы называют равными, если они:\n",
    "1) одинакового размера (типа)\n",
    "2) эл-ты, стоящие на одинаковых местах совпадают\n",
    "\n",
    "---"
   ]
  },
  {
   "cell_type": "markdown",
   "metadata": {},
   "source": [
    "**Опр.**\n",
    "\n",
    "Суммой матриц A и B типа $m*n$ называют м-цу C того же типа с эл-ми: $C_{i j} = A_{i j} + B_{i j} \\\\ i = 1 \\dots m, j = 1 \\dots n$ \n",
    "\n",
    "**Пример**\n",
    "\n",
    "$ \\begin{pmatrix} -1 & 0 \\\\ -1 & 1 \\end{pmatrix} + \\begin{pmatrix} 1 & 1 \\\\ 0 & 2 \\end{pmatrix} = \\begin{pmatrix} 0 & 1 \\\\ -1 & 3 \\end{pmatrix} $\n",
    "\n",
    "**Свойства**\n",
    "\n",
    "1) Коммутативность $ A + B = B + A $ \n",
    "\n",
    "2) Ассоциативность $ A + (B + C) = (A + B) + C $ \n",
    "\n",
    "3) $\\exists \\Theta \\in M_{mn} ( \\mathbb{R} ): \\forall A \\in M_{mn} ( \\mathbb{R} ) \\\\ A + \\Theta = A $ ($\\Theta$ - нулевая матрица)\n",
    "\n",
    "4) $\\forall A \\in M_{mn} ( \\mathbb{R} ) \\exists! B \\in M_{mn} ( \\mathbb{R} ): \\\\ A + B = \\Theta $ ($B$ - противоположная. Обозначение: $-A$. )\n",
    "\n",
    "---"
   ]
  },
  {
   "cell_type": "markdown",
   "metadata": {},
   "source": [
    "**Опр.**\n",
    "\n",
    "Разностью матриц A и B называется сумма $A$ и $(-B)$\n",
    "\n",
    "---\n",
    "\n",
    "**Опр.** Транспонирование\n",
    "\n",
    "Для матрицы A типа $m*n$ её транспонир. матрицей называют матрицу $C$ типа $n*m$ с элементами $C_{ij} = A_{ji} \\\\ \\forall i = 1 \\dots n, \\forall j = 1 \\dots m$\n",
    "\n",
    "Обозначение: $A^T $\n",
    "\n",
    "---"
   ]
  },
  {
   "cell_type": "markdown",
   "metadata": {},
   "source": [
    "**Опр.**\n",
    "\n",
    "Рассмотрим матрицу A типа $m*n$ с эл-ми $a_{ij} \\\\ i = 1 \\dots m, j = 1 \\dots n$ и матрицу B типа $n*p$ с эл-ми $b_{kl}, k = 1 \\dots n, l = 1 \\dots p$\n",
    "\n",
    "Произведением A и B называют матрицу C типа $ m*p $\n",
    "\n",
    "$C_{ij} = \\sum_{r = 1}^{n} a_{ir} * b_{rj} \\\\ i = 1 \\dots m \\\\ j = 1 \\dots p$\n",
    "\n",
    "Обозначение: $C = A * B$\n",
    "\n",
    "**Пример.**\n",
    "\n",
    "$ \\begin{pmatrix} 1 & 0 \\\\ -1 & 0 \\end{pmatrix} * \\begin{pmatrix} 0 & 1 \\\\ 2 & 1 \\end{pmatrix} = \\begin{pmatrix} 1 * 0 + 0 * 2 & 1 * 1 + 0 * 1 \\\\ -1 * 0 + 0 * 2 & -1 * 1 + 0 * 1 \\end{pmatrix} = \\begin{pmatrix} 0 & 1 \\\\ 0 & -1 \\end{pmatrix} $\n",
    "\n",
    "**Свойства**\n",
    "\n",
    "1) Ассоциативность: $A * (B * C) = (A * B) * C$\n",
    "\n",
    "2) Дистрибутивность относительно сложения матриц: $(A + B) * C = A * C + B * C$\n",
    "\n",
    "3) $\\exists E \\in M_n (\\mathbb{R}): \\\\ \\forall A \\in M_n (\\mathbb{R}) : \\quad A * E = E * A = A$ (E - единичная матрица)\n",
    "\n",
    "4) $\\forall A \\in M_n (\\mathbb{R}): \\quad A * \\Theta = \\Theta$\n",
    "\n",
    "5) $(A * B)^T = B^T * A^T$\n",
    "\n",
    "---"
   ]
  },
  {
   "cell_type": "markdown",
   "metadata": {},
   "source": [
    "**Единичная матрица**\n",
    "\n",
    "$E = \\begin{pmatrix} 1 & & 0 \\\\ & \\ddots & \\\\ 0 & & 1 \\end{pmatrix}$\n",
    "\n",
    "$\\delta_i^j = \\begin{cases} 1, i = j \\\\ 0,i \\ne j \\end{cases}$\n",
    "\n",
    "$\\delta$ - символ Кронекера"
   ]
  },
  {
   "cell_type": "markdown",
   "metadata": {},
   "source": [
    "Доказательства не пишу - не успею.\n",
    "\n",
    "Доказали:\n",
    "- Свойство умножения №3\n",
    "- Свойство умножения №5"
   ]
  }
 ],
 "metadata": {
  "kernelspec": {
   "display_name": "Python 3",
   "language": "python",
   "name": "python3"
  },
  "language_info": {
   "codemirror_mode": {
    "name": "ipython",
    "version": 3
   },
   "file_extension": ".py",
   "mimetype": "text/x-python",
   "name": "python",
   "nbconvert_exporter": "python",
   "pygments_lexer": "ipython3",
   "version": "3.7.4"
  }
 },
 "nbformat": 4,
 "nbformat_minor": 2
}
