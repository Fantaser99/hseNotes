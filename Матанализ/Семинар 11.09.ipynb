{
 "cells": [
  {
   "cell_type": "markdown",
   "metadata": {},
   "source": [
    "# 1. Введение\n",
    "\n",
    "## 1.1. Множества и операции над множествами\n",
    "\n",
    "### 1.1.1. Множества\n",
    "\n",
    "~~Фрактальная математика? Появилась в 1980 г. ~~\n",
    "\n",
    "Книга Ньютона - \"Натуральная философия\" (?)\n",
    "\n",
    "1. Множества:\n",
    "    - Натуральные числа $ \\mathbb{N} \\> ( 0 \\notin \\mathbb{N} ) $\n",
    "    - Целые числа $\\mathbb{Z}$\n",
    "    - Рациональные числа $\\mathbb{Q}$\n",
    "    - Вещественные числа $\\mathbb{R}$\n",
    "    - Действительные числа $\\mathbb{C}$\n",
    "2. Элемент множества:\n",
    "    - Примеры: $x \\in \\mathbb{N} , \\>\\>\\> x \\notin \\mathbb{Z} $\n",
    "3. Множество в множестве\n",
    "    - Примеры: $ A \\subset B; \\>\\> B \\supset A $\n",
    "    - $ \\mathbb{N} \\subset \\mathbb{Z} \\subset \\mathbb{Q} \\subset \\mathbb{R} \\subset \\mathbb{C} $\n",
    "    - $ A \\subset B, B \\subset A \\implies A = B$\n",
    "    - Пустое множество $\\emptyset \\subset A$"
   ]
  },
  {
   "cell_type": "markdown",
   "metadata": {},
   "source": [
    "### 1.1.2. Операции над множествами\n",
    "\n",
    "1. $A \\cup B$ - объединение ($x \\in A \\lor x \\in B$)\n",
    "2. $A \\cap B$ - пересечение ($x \\in A \\land x \\in B$)\n",
    "3. $A \\setminus B$ - разница ($x \\in A \\land x \\notin B$)\n",
    "\n",
    "    **Иррациональное множество** $\\mathbb{J} = \\mathbb{R} \\setminus \\mathbb{Q}$\n",
    "\n",
    "    $\\mathbb{J} \\subset \\mathbb{C}$\n",
    "\n",
    "    $\\pi$ - иррациональное число\n",
    "\n",
    "4. $A'_B$ - дополнение B до A. **НЕ ТО ЖЕ САМОЕ ЧТО $A \\setminus B$ !!!**\n",
    "5. **Закон двойственности**.\n",
    "    $(A \\cup B)' = A' \\cap B' \\\\ (A \\cap B)' = A' \\cup B'$\n",
    "    \n",
    "    Речь идёт о дополнении до универсума ($\\mathbb{U}$)\n",
    "    \n",
    "    Дополнение объединения = пересечение дополнений (подобно закону Де-Моргана в логике)\n",
    "    "
   ]
  },
  {
   "cell_type": "markdown",
   "metadata": {},
   "source": [
    "---\n",
    "\n",
    "#### Обозначения\n",
    "\n",
    "$\\emptyset, A, B, A', \\mathbb{N}, \\mathbb{Z}, \\mathbb{Q}, \\mathbb{J}, \\mathbb{R}, \\mathbb{C}, \\mathbb{U}$ - обозначения множеств.\n",
    "\n",
    "$x$ - элемент множества.\n",
    "\n",
    "$\\in, \\notin, \\subset, \\supset, =, \\setminus, \\cup, \\cap, '$ - операнды.\n",
    "\n",
    "---"
   ]
  },
  {
   "cell_type": "markdown",
   "metadata": {},
   "source": [
    "### 1.1.3. Эквивалентные и неэквивалентные множества.\n",
    "\n",
    "Если между элементами двух множеств можно установить взаимнооднозначное соответствие, то такие множества называются **эквивалентными**.\n",
    "\n",
    "3. Эквивалентные: $A \\sim B$.\n",
    "    Неэквивалентные: $A \\nsim B$\n",
    "\n",
    "    $A \\nsim B, \\>\\>\\> A \\sim B_1 \\subset B$\n",
    "    \n",
    "    A имеет меньшую **мощность** чем B\n",
    "    \n",
    "\n",
    "4. Если $A \\neq \\emptyset$, оно называется **конечным** ~~*(WTF?!)*~~\n",
    "\n",
    "5. $ n \\in \\mathbb{N} \\land A \\sim \\{1, 2, 3, \\dots n\\} \\implies $ $A$ имеет мощность $n$\n",
    "\n",
    "    Мощность $\\emptyset$ равна $0$\n",
    "\n",
    "6. Множество, не являющееся **конечным** называется **бесконечным**\n",
    "7. Множество $A$ называется **счётным**, если $A \\sim \\mathbb{N}$\n",
    "8. Мощность множества $> \\mathbb{N}$, оно называется **несчётным**. \n",
    "\n",
    "    $ \\mathbb{R}$ - счётное."
   ]
  }
 ],
 "metadata": {
  "kernelspec": {
   "display_name": "Python 3",
   "language": "python",
   "name": "python3"
  },
  "language_info": {
   "codemirror_mode": {
    "name": "ipython",
    "version": 3
   },
   "file_extension": ".py",
   "mimetype": "text/x-python",
   "name": "python",
   "nbconvert_exporter": "python",
   "pygments_lexer": "ipython3",
   "version": "3.7.4"
  }
 },
 "nbformat": 4,
 "nbformat_minor": 2
}
