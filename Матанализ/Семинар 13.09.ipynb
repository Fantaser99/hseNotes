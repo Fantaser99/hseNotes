{
 "cells": [
  {
   "cell_type": "markdown",
   "metadata": {},
   "source": [
    "**Сумма выше главной диагонали**\n",
    "\n",
    "$ \\displaystyle\\sum_{i = 1}^{N} \\sum_{j = i}^N a_{ij} = $"
   ]
  },
  {
   "cell_type": "markdown",
   "metadata": {},
   "source": [
    "$ = a_{1 1} + a_{1 2} + a_{1 3} + \\dots + a_{1 n} + \\\\ \\>\\>\\>\\>\\>\\>\\>\\>\\>\\>\\>\\>\\> a_{2 2} + a_{2 3} + \\dots + a_{2 n} + \\\\ \\>\\>\\>\\>\\>\\>\\>\\>\\>\\>\\>\\>\\>\\>\\>\\>\\>\\>\\>\\>\\>\\>\\>a_{3 3} + \\dots + a_{n n} $"
   ]
  },
  {
   "cell_type": "code",
   "execution_count": 6,
   "metadata": {},
   "outputs": [
    {
     "name": "stdout",
     "output_type": "stream",
     "text": [
      "# # # # # # # # # # \n",
      ". # # # # # # # # # \n",
      ". . # # # # # # # # \n",
      ". . . # # # # # # # \n",
      ". . . . # # # # # # \n",
      ". . . . . # # # # # \n",
      ". . . . . . # # # # \n",
      ". . . . . . . # # # \n",
      ". . . . . . . . # # \n",
      ". . . . . . . . . # \n"
     ]
    }
   ],
   "source": [
    "n = 10\n",
    "\n",
    "for i in range(n):\n",
    "    for j in range(i):\n",
    "        print(\".\", end=\" \")\n",
    "    for j in range(i, n):\n",
    "        print(\"#\", end=\" \")\n",
    "    print()"
   ]
  },
  {
   "cell_type": "markdown",
   "metadata": {},
   "source": [
    "$ \\displaystyle\\prod_{i = 1}^n a_i = a_1 * a_2 * \\dots * a_n $"
   ]
  },
  {
   "cell_type": "markdown",
   "metadata": {},
   "source": [
    "$ (a + b)^2 = a^2 + 2ab + b^2 $"
   ]
  },
  {
   "cell_type": "markdown",
   "metadata": {},
   "source": [
    "$ (a + b)^3 = a^3 + 3a^2b + 3ab^2 + b^3 $"
   ]
  },
  {
   "cell_type": "code",
   "execution_count": 21,
   "metadata": {},
   "outputs": [
    {
     "data": {
      "text/html": [
       "<style>\n",
       ".output_text pre {\n",
       "    text-align: center;\n",
       "    }\n",
       "</style>\n"
      ],
      "text/plain": [
       "<IPython.core.display.HTML object>"
      ]
     },
     "metadata": {},
     "output_type": "display_data"
    }
   ],
   "source": [
    "%%html\n",
    "<style>\n",
    ".output_text pre {\n",
    "    text-align: center;\n",
    "    }\n",
    "</style>"
   ]
  },
  {
   "cell_type": "code",
   "execution_count": 25,
   "metadata": {},
   "outputs": [
    {
     "data": {
      "text/html": [
       "\n",
       "\n"
      ],
      "text/plain": [
       "<IPython.core.display.HTML object>"
      ]
     },
     "execution_count": 25,
     "metadata": {},
     "output_type": "execute_result"
    }
   ],
   "source": [
    "from IPython.core.display import HTML\n",
    "\n",
    "lines = [[1], [1, 1]]\n",
    "for i in range(12):\n",
    "    lines.append([1] + [lines[-1][i] + lines[-1][i + 1] for i in range(len(lines[-1]) - 1)] + [1])\n",
    "for i in range(len(lines)):\n",
    "    line = lines[i]\n",
    "    \n",
    "HTML(\"\"\"\n",
    "\n",
    "\"\"\")"
   ]
  },
  {
   "cell_type": "markdown",
   "metadata": {},
   "source": [
    "Сколько 6-зн чисел кратных 5 можно составить из цифр 1, 2, 3, 4, 5, 6?"
   ]
  },
  {
   "cell_type": "markdown",
   "metadata": {},
   "source": []
  }
 ],
 "metadata": {
  "kernelspec": {
   "display_name": "Python 3",
   "language": "python",
   "name": "python3"
  },
  "language_info": {
   "codemirror_mode": {
    "name": "ipython",
    "version": 3
   },
   "file_extension": ".py",
   "mimetype": "text/x-python",
   "name": "python",
   "nbconvert_exporter": "python",
   "pygments_lexer": "ipython3",
   "version": "3.7.4"
  }
 },
 "nbformat": 4,
 "nbformat_minor": 2
}
